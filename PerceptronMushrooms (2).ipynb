{
  "nbformat": 4,
  "nbformat_minor": 0,
  "metadata": {
    "colab": {
      "provenance": []
    },
    "kernelspec": {
      "name": "python3",
      "display_name": "Python 3"
    },
    "language_info": {
      "name": "python"
    }
  },
  "cells": [
    {
      "cell_type": "code",
      "execution_count": 1,
      "metadata": {
        "id": "I96OaQEOQCkf",
        "colab": {
          "base_uri": "https://localhost:8080/"
        },
        "outputId": "dcee563d-4ecc-4523-bb70-3ebb04b4d19a"
      },
      "outputs": [
        {
          "output_type": "stream",
          "name": "stdout",
          "text": [
            "--2025-01-12 15:46:57--  https://github.com/valentinagliozzi/NNCourse/raw/main/fung.mat\n",
            "Resolving github.com (github.com)... 140.82.116.4\n",
            "Connecting to github.com (github.com)|140.82.116.4|:443... connected.\n",
            "HTTP request sent, awaiting response... 302 Found\n",
            "Location: https://raw.githubusercontent.com/valentinagliozzi/NNCourse/main/fung.mat [following]\n",
            "--2025-01-12 15:46:57--  https://raw.githubusercontent.com/valentinagliozzi/NNCourse/main/fung.mat\n",
            "Resolving raw.githubusercontent.com (raw.githubusercontent.com)... 185.199.108.133, 185.199.109.133, 185.199.110.133, ...\n",
            "Connecting to raw.githubusercontent.com (raw.githubusercontent.com)|185.199.108.133|:443... connected.\n",
            "HTTP request sent, awaiting response... 200 OK\n",
            "Length: 1031936 (1008K) [application/octet-stream]\n",
            "Saving to: ‘fung.mat’\n",
            "\n",
            "fung.mat            100%[===================>]   1008K  --.-KB/s    in 0.05s   \n",
            "\n",
            "2025-01-12 15:46:58 (21.7 MB/s) - ‘fung.mat’ saved [1031936/1031936]\n",
            "\n"
          ]
        }
      ],
      "source": [
        "import numpy as np\n",
        "import matplotlib.pyplot as plt\n",
        "import scipy.io as sio\n",
        "from scipy.io import loadmat\n",
        "\n",
        "\n",
        "#get the dataset from github\n",
        "!wget \"https://github.com/valentinagliozzi/NNCourse/raw/main/fung.mat\" -O \"fung.mat\""
      ]
    },
    {
      "cell_type": "code",
      "source": [
        "#Functions' definitions\n",
        "\n",
        "\n",
        "def percett(X, T, n):\n",
        "    \"\"\"\n",
        "    Perceptron implementation.\n",
        "    Classifies a set of patterns into two classes.\n",
        "    Inputs are real and outputs are bipolar, 1, -1.\n",
        "    There are m inputs plus the bias input, always set to -1.\n",
        "    There are m+1 weights connecting the inputs and the bias to the single output y.\n",
        "    The m+1 weights form a vector W, initially containing random values.\n",
        "    The activation function is the sign.\n",
        "    The input is a matrix X with m columns (one column per input value),\n",
        "    and t rows, where t is the number of patterns to learn.\n",
        "    The patterns are m-dimensional.\n",
        "    The input also includes the column vector T (target) with t rows,\n",
        "    containing the values to learn (+1 or -1, identifying the two classes).\n",
        "    n is the number of epochs set for learning.\n",
        "    Usage: [a, b] = percett(X, T, n)\n",
        "    a contains the history of weights and b the history of the number of learned patterns.\n",
        "    \"\"\"\n",
        "    #assegna a t il numero di righe della matrice e a m il numero di colonne\n",
        "    t, m = X.shape\n",
        "    #inizializza randomicamente W assegnandogli valori compresi tra 0 e 1\n",
        "    W = np.random.rand(m + 1)  # Random initialization of W.\n",
        "\n",
        "    \"\"\"\n",
        "    hstack serve per concatenare orizzontalmente matrici e vettori\n",
        "    -np.ones crea una colonna di bias composta da -1\n",
        "    in generale viene aggiunta una colonna che rappresenta il bias alla matrice\n",
        "    facendola diventare di dimensioni t X m+1\n",
        "    \"\"\"\n",
        "    X = np.hstack((X, -np.ones((t, 1))))  # Add bias input\n",
        "    #inizializza una matrice di dimensioni m+1 X n, utilizzata per memorizzare i pesi per le n iterazioni\n",
        "    #le righe mostrano la storia del singolo preso, le colonne mostrano i pesi a ogni iterazione\n",
        "    storiapesi = np.zeros((m + 1, n))\n",
        "    #inizializza un vettore di dimensioni n, tutti i valori sono a 0\n",
        "    storiappresi = np.zeros(n) # n epochs\n",
        "\n",
        "    for i in range(n):\n",
        "        #inserisce i pesi di w nella colonna i\n",
        "        storiapesi[:, i] = W\n",
        "\n",
        "        \"\"\"\n",
        "        np.dot(W, X.T) esegue il prodotto scalare tra il vettore W di dimensioni m+1 e la matrice X trasposta di dimensioni m+1 X t ottenendo un vettore di dimensioni t\n",
        "        sign_perc restituisce 1 se il risultato è positivo e -1 se il risultato è negativo\n",
        "        Y conterrà i valori di output per il set di pesi W all'epoca i\n",
        "        \"\"\"\n",
        "        Y = sign_perc(np.dot(W, X.T))  # Y is a row vector containing the t outputs\n",
        "        #viene salvato in storiappresi[i] il numero di pattern correttamente appresi nell'epoca i\n",
        "        storiappresi[i] = np.sum(T == Y) # number of correctly learned patterns for that iteration\n",
        "\n",
        "        for j in range(t):\n",
        "            #si verifica che i risultati ottenuti siano come quelli desiderati\n",
        "            #se il pattern è errato si modificano i pesi moltiplicando il risulatto atteso j per l'input alla riga j\n",
        "            if Y[j] != T[j]:\n",
        "                W = W + T[j] * X[j, :]\n",
        "\n",
        "    return storiapesi, storiappresi\n",
        "\n",
        "def sign_perc(x):\n",
        "    return 2 * (x > 0) - 1\n",
        "\n",
        "def usaperc(W, P):\n",
        "    \"\"\"\n",
        "    Uses the perceptron after the patterns have been learned.\n",
        "    Receives W and a matrix of patterns P.\n",
        "    Returns a column of responses, one for each pattern.\n",
        "    \"\"\"\n",
        "    t, m = P.shape  # t patterns, m dimensions\n",
        "\n",
        "\n",
        "    # Add a column of -1 to P for the bias term\n",
        "    P = np.hstack((P, -np.ones((t, 1))))\n",
        "\n",
        "    display(P.shape)\n",
        "\n",
        "    #W.shape[0] restituisce il numero di righe di W\n",
        "    w = W.shape[0]\n",
        "    display(W.shape)\n",
        "\n",
        "    #se il numero di righe di W (w) e il numero di colonne di P con la colonna del bias aggiunta(m+1) per poter effettuare il prodotto scalare\n",
        "    if w != m + 1:\n",
        "        raise ValueError(\"Incorrect dimensions!\")\n",
        "\n",
        "    # Calculate the result\n",
        "    #calcola il risultato come nel caso precedente ma con un vettore colonna invece di un vettore riga\n",
        "    ris = sign_perc(np.dot(W, P.T)).T\n",
        "    return ris\n"
      ],
      "metadata": {
        "id": "UpaV1v7gCGNk"
      },
      "execution_count": 2,
      "outputs": []
    },
    {
      "cell_type": "code",
      "source": [
        "# Load the data\n",
        "fung = sio.loadmat('fung.mat')['fun'].astype(np.float64)\n",
        "\n",
        "# Training pairs\n",
        "fun1i = fung[:4062, :127]\n",
        "\n",
        "#mostrare le prima 5 colonne delle prime 10 righe\n",
        "print(fun1i[:10,:5])\n",
        "\n",
        "fun1t = 2 * fung[:4062, -1] - 1\n",
        "\n",
        "\n",
        "# Test pairs\n",
        "fun2i = fung[4063:, :127]\n",
        "fun2t = 2 * fung[4063:, -1] - 1\n"
      ],
      "metadata": {
        "id": "5ncwIjJqer7S",
        "colab": {
          "base_uri": "https://localhost:8080/"
        },
        "outputId": "585534f0-bfc8-4373-9b6c-56820c934696"
      },
      "execution_count": 3,
      "outputs": [
        {
          "output_type": "stream",
          "name": "stdout",
          "text": [
            "[[0. 0. 1. 0. 0.]\n",
            " [0. 0. 1. 0. 0.]\n",
            " [0. 0. 1. 0. 0.]\n",
            " [0. 0. 1. 0. 0.]\n",
            " [0. 0. 1. 0. 0.]\n",
            " [0. 0. 1. 0. 0.]\n",
            " [1. 0. 0. 0. 0.]\n",
            " [0. 0. 0. 1. 0.]\n",
            " [0. 0. 0. 1. 0.]\n",
            " [0. 0. 0. 1. 0.]]\n"
          ]
        }
      ]
    },
    {
      "cell_type": "code",
      "source": [
        "# Set random seed\n",
        "np.random.seed(1992)\n",
        "\n",
        "# Learning\n",
        "#u, v = percett(fun1i, fun1t, 50)\n",
        "\n",
        "#cambio il numero di epoche\n",
        "u, v = percett(fun1i, fun1t, 60)"
      ],
      "metadata": {
        "id": "tYYQiqs9ezvt"
      },
      "execution_count": 5,
      "outputs": []
    },
    {
      "cell_type": "code",
      "source": [
        "# Plot the learning curve\n",
        "plt.plot(v)\n",
        "plt.title(\"Learning Curve\")\n",
        "plt.xlabel(\"Epochs\")\n",
        "plt.ylabel(\"Number of Correctly Classified Patterns\")\n",
        "plt.show()\n",
        "\n",
        "print(f\"Percentage correctly learned during Training: {(np.max(v) / 4062) * 100:.2f}%\")"
      ],
      "metadata": {
        "id": "Kax4SKoJClXH",
        "colab": {
          "base_uri": "https://localhost:8080/",
          "height": 490
        },
        "outputId": "a7007b20-23e5-4725-ea3a-c210990bf930"
      },
      "execution_count": 6,
      "outputs": [
        {
          "output_type": "display_data",
          "data": {
            "text/plain": [
              "<Figure size 640x480 with 1 Axes>"
            ],
            "image/png": "[encoded data removed]"
          },
          "metadata": {}
        },
        {
          "output_type": "stream",
          "name": "stdout",
          "text": [
            "Percentage correctly learned during Training: 100.00%\n"
          ]
        }
      ]
    },
    {
      "cell_type": "code",
      "source": [
        "# Find the index of the first maximum\n",
        "#hh è il valore maggiore di pattern appresi da un set, h corrisponde alla sua posizione\n",
        "hh, h = np.max(v), np.argmax(v)\n",
        "\n",
        "# Optimal weight column\n",
        "W = u[:, h]\n",
        "\n",
        "# Test\n",
        "ris = usaperc(W, fun2i)\n",
        "#valutazione della qualità del perceptron dopo l'addestramento, confrontando i valori ottenuti usando il test set e i risultati aspettati\n",
        "z = np.sum(ris == fun2t)\n",
        "\n",
        "print(f\"At Test, correct results on UNSEEN fungi:{z}, i.e., {(z / 4061) * 100:.2f}%\")"
      ],
      "metadata": {
        "id": "HxpgjtFfCyeO",
        "colab": {
          "base_uri": "https://localhost:8080/",
          "height": 71
        },
        "outputId": "75769ad7-f410-4c03-889b-9a1d4c18a84f"
      },
      "execution_count": 7,
      "outputs": [
        {
          "output_type": "display_data",
          "data": {
            "text/plain": [
              "(4061, 128)"
            ]
          },
          "metadata": {}
        },
        {
          "output_type": "display_data",
          "data": {
            "text/plain": [
              "(128,)"
            ]
          },
          "metadata": {}
        },
        {
          "output_type": "stream",
          "name": "stdout",
          "text": [
            "At Test, correct results on UNSEEN fungi:4051, i.e., 99.75%\n"
          ]
        }
      ]
    }
  ]
}