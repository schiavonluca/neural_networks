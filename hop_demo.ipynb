{
  "cells": [
    {
      "cell_type": "markdown",
      "metadata": {
        "id": "view-in-github",
        "colab_type": "text"
      },
      "source": [
        "<a href=\"https://colab.research.google.com/github/schiavonluca/neural_networks/blob/main/hop_demo.ipynb\" target=\"_parent\"><img src=\"https://colab.research.google.com/assets/colab-badge.svg\" alt=\"Open In Colab\"/></a>"
      ]
    },
    {
      "cell_type": "code",
      "execution_count": 1,
      "metadata": {
        "id": "mJlnC3u7c8Qc"
      },
      "outputs": [],
      "source": [
        "import numpy as np\n",
        "from scipy.io import loadmat\n",
        "\n",
        "import pylab as pl\n",
        "from IPython import display"
      ]
    },
    {
      "cell_type": "markdown",
      "metadata": {
        "id": "utR1K6Ipc8Qd"
      },
      "source": [
        "# Helper functions"
      ]
    },
    {
      "cell_type": "code",
      "execution_count": 2,
      "metadata": {
        "id": "Gld3Y9bFc8Qd"
      },
      "outputs": [],
      "source": [
        "def hop_plotdig(P, r=None, c=None, stri=None, ax=None):\n",
        "    \"\"\"\n",
        "    Displays the Hopfield digit stored in P.\n",
        "    If P is a vector, it must first be reshaped.\n",
        "    \"\"\"\n",
        "    # Se vengono specificate righe e colonne, viene eseguito il reshape del pattern P\n",
        "    if r is not None and c is not None:\n",
        "        P = np.reshape(P, (r, c)).T\n",
        "\n",
        "    # Scala i valori di P per migliorare la visualizzazione\n",
        "    P = (P + 1) * 64\n",
        "\n",
        "    # Mostra l'immagine del pattern usando una mappa di colori (colormap) \"bone\"\n",
        "    ax.imshow(P, cmap=\"bone\")\n",
        "    # Rimuove i tick dagli assi per migliorare la leggibilità\n",
        "    ax.set_xticks([])\n",
        "    ax.set_yticks([])\n",
        "\n",
        "    # Aggiunge una label opzionale sull'asse x\n",
        "    if stri is not None:\n",
        "        ax.set_xlabel(stri)\n",
        "\n",
        "\n",
        "def hop_plotpats(P):\n",
        "    \"\"\"\n",
        "    Routine plots the digits for the Hopfield network, the patterns\n",
        "    are contained in the file hop_data.mat\n",
        "    \"\"\"\n",
        "    # Definisce i nomi delle etichette per i vari pattern\n",
        "    n1 = \"zero\"\n",
        "    n2 = \"one\"\n",
        "    n3 = \"two\"\n",
        "    n4 = \"three\"\n",
        "    n5 = \"four\"\n",
        "    n6 = \"six\"\n",
        "    n7 = \"nine\"\n",
        "    n8 = \"block\"\n",
        "\n",
        "    labels = [n1, n2, n3, n4, n5, n6, n7, n8]\n",
        "\n",
        "    # Crea un grafico con una griglia di subplot\n",
        "    fig, ax = pl.subplots(3, 3)\n",
        "    fig.set_size_inches(10, 10)\n",
        "    #P matrice con le caratteristiche delle immagini\n",
        "    \"\"\"\n",
        "    P[:,i] mi permette di selezionare le caratteristiche di un singolo numero\n",
        "    10 sono le righe del grafico\n",
        "    12 sono le colonne del grafico\n",
        "    labels[i] etichetta corrispondente al grafico, 0,1,2,3...\n",
        "    decide in quale dei grafici in figura vanno inserite queste informazioni, // si usa per la divisione intera per difetto\n",
        "    \"\"\"\n",
        "    # Itera sui pattern e li disegna nei subplot\n",
        "    for i in range(8):\n",
        "        hop_plotdig(P[:, i], 10, 12, labels[i], ax[i // 3, i % 3])\n",
        "\n",
        "    fig.show()\n",
        "\n",
        "\n",
        "def hop_stor(P):\n",
        "    \"\"\"\n",
        "    Performs the storage (learning phase) for a Hopfield network.\n",
        "\n",
        "    Parameters:\n",
        "    P - patterns to be stored (column wise matrix)\n",
        "\n",
        "    Returns:\n",
        "    W - weight matrix\n",
        "    \"\"\"\n",
        "    # Ottiene le dimensioni della matrice P: numero di neuroni (n) e numero di pattern (p)\n",
        "    n, p = P.shape\n",
        "\n",
        "    # Inizializza la matrice dei pesi W come matrice quadrata di zeri\n",
        "    W = np.zeros((n, n))\n",
        "\n",
        "    # Calcola i pesi sinaptici secondo la regola di apprendimento di Hebb\n",
        "    for j in range(1, n):\n",
        "        for i in range(j):\n",
        "          #qui la sommatoria della formula teorica è sostituita dal prodotto scalare\n",
        "          #che essendo tra due vettori permette anche la somma e sostituisce la sommatoria\n",
        "            W[i, j] = np.dot(P[i, :], P[j, :]) / p  # Prodotto scalare normalizzato\n",
        "            W[j, i] = W[i, j]  # Simmetria della matrice dei pesi\n",
        "\n",
        "    return W\n",
        "\n",
        "\n",
        "def hop_flip(P, prob):\n",
        "    \"\"\"\n",
        "    This routine randomly flips bits in the input pattern (P) according to the\n",
        "    user specified probability.\n",
        "\n",
        "    Parameters:\n",
        "    P - input pattern\n",
        "    prob - probability of flipping a bit\n",
        "\n",
        "    Returns:\n",
        "    P - modified pattern\n",
        "    flip - number of bits flipped\n",
        "    \"\"\"\n",
        "    # Appiattisce il pattern P in un vettore\n",
        "    P = P.flatten()\n",
        "    r = P.shape[0]\n",
        "    flip = 0  # Contatore per il numero di bit invertiti\n",
        "\n",
        "    # Per ogni bit nel pattern\n",
        "    for i in range(r):\n",
        "        v = np.random.rand()  # Genera un numero casuale\n",
        "        if v <= prob:  # Con probabilità prob\n",
        "            flip += 1  # Incrementa il contatore\n",
        "            P[i] = P[i] * (-1)  # Inverte il bit (da 1 a -1 o viceversa)\n",
        "\n",
        "    # Riformatta il pattern come matrice colonna\n",
        "    P = P.reshape(-1, 1)\n",
        "    return P, flip\n",
        "\n",
        "\n",
        "def hop_test(W, x, update, plot=\"on\", fig=None, ax=None):\n",
        "    \"\"\"\n",
        "    Parameters:\n",
        "    W - weight matrix\n",
        "    x - probe vector\n",
        "    update - (maximum number of iterations, used to set how often to view the network)\n",
        "    fig - figure handle\n",
        "    ax - axis handle\n",
        "\n",
        "    Returns:\n",
        "    s - output state vector\n",
        "    count - number of cycles until stable state is reached\n",
        "    stable - if this is a stable state (for sure eventually it is)\n",
        "    \"\"\"\n",
        "    # Stato iniziale, appiattito in un vettore\n",
        "    s_prev = x.flatten()\n",
        "    count = 0  # Contatore del numero di iterazioni\n",
        "    stable = False  # Flag per verificare se la rete è stabile\n",
        "    update = max(update, 1)  # Assicura che ci sia almeno un'iterazione\n",
        "\n",
        "    while count < update and not stable:\n",
        "        ch = []  # Lista di cambiamenti\n",
        "        count += 1  # Incrementa il contatore delle iterazioni\n",
        "\n",
        "        # Calcola il nuovo stato utilizzando il prodotto matrice dei pesi-vettore con il valore\n",
        "        #sign è una funzione di attivazione semplice 1 se >0, -1 se è <0\n",
        "        nv = np.sign(np.dot(W, s_prev))\n",
        "\n",
        "        # Identifica i neuroni che cambiano stato\n",
        "        ch = [j for j in range(120) if nv[j] != 0 and abs(nv[j] - s_prev[j]) > 0]\n",
        "\n",
        "        # Se non ci sono cambiamenti, lo stato è stabile\n",
        "        if not ch:\n",
        "            stable = True\n",
        "            break\n",
        "        else:\n",
        "            # Se ci sono cambiamenti, ne seleziona uno casualmente e aggiorna il neurone\n",
        "            r_ind = np.random.choice(ch)\n",
        "            s_prev[r_ind] = -s_prev[r_ind]\n",
        "\n",
        "    # Riformatta lo stato come matrice con la stessa forma di x\n",
        "    s = s_prev.reshape(x.shape)\n",
        "    return s, count, stable\n"
      ]
    },
    {
      "cell_type": "markdown",
      "metadata": {
        "id": "1q4Ux8pIc8Qe"
      },
      "source": [
        "# The Hopfield Network - Demo 1 - Pattern Recall\n",
        "\n",
        "This algorithm demonstrates recall of a corrupted pattern.\n",
        "The user is prompted for the input pattern and the noise level\n",
        "as well as an interval at which to show progress of the algorithm.\n",
        "\n",
        "Loading the digits."
      ]
    },
    {
      "cell_type": "code",
      "source": [
        "!wget \"https://github.com/valentinagliozzi/NNCourse/raw/main/hop_data.mat\" -O \"hop_data.mat\"\n",
        "data = loadmat(\"hop_data.mat\")\n",
        "P = data[\"P\"]\n",
        "hop_plotpats(P)"
      ],
      "metadata": {
        "id": "M3OJy6fHtN9I",
        "colab": {
          "base_uri": "https://localhost:8080/",
          "height": 1000
        },
        "outputId": "3f38cdf7-39c7-435d-f7f6-ae46033b963e"
      },
      "execution_count": 3,
      "outputs": [
        {
          "output_type": "stream",
          "name": "stdout",
          "text": [
            "--2025-01-16 20:51:12--  https://github.com/valentinagliozzi/NNCourse/raw/main/hop_data.mat\n",
            "Resolving github.com (github.com)... 140.82.112.3\n",
            "Connecting to github.com (github.com)|140.82.112.3|:443... connected.\n",
            "HTTP request sent, awaiting response... 302 Found\n",
            "Location: https://raw.githubusercontent.com/valentinagliozzi/NNCourse/main/hop_data.mat [following]\n",
            "--2025-01-16 20:51:12--  https://raw.githubusercontent.com/valentinagliozzi/NNCourse/main/hop_data.mat\n",
            "Resolving raw.githubusercontent.com (raw.githubusercontent.com)... 185.199.109.133, 185.199.110.133, 185.199.108.133, ...\n",
            "Connecting to raw.githubusercontent.com (raw.githubusercontent.com)|185.199.109.133|:443... connected.\n",
            "HTTP request sent, awaiting response... 200 OK\n",
            "Length: 15578 (15K) [application/octet-stream]\n",
            "Saving to: ‘hop_data.mat’\n",
            "\n",
            "hop_data.mat        100%[===================>]  15.21K  --.-KB/s    in 0s      \n",
            "\n",
            "2025-01-16 20:51:12 (58.4 MB/s) - ‘hop_data.mat’ saved [15578/15578]\n",
            "\n"
          ]
        },
        {
          "output_type": "display_data",
          "data": {
            "text/plain": [
              "<Figure size 1000x1000 with 9 Axes>"
            ],
            "image/png": "[encoded data removed]"
          },
          "metadata": {}
        }
      ]
    },
    {
      "cell_type": "code",
      "execution_count": 4,
      "metadata": {
        "id": "6cH5F-pQc8Qf"
      },
      "outputs": [],
      "source": [
        "# ----------------- Calculate Weight Matrix\n",
        "W = hop_stor(P)"
      ]
    },
    {
      "cell_type": "code",
      "execution_count": 5,
      "metadata": {
        "id": "A5_NC1IVc8Qf"
      },
      "outputs": [],
      "source": [
        "# User options\n",
        "\n",
        "pat = 5  # pattern to test\n",
        "pr = 0.2 # probability of flipping a bit (noise level)\n",
        "\n",
        "u = 5  # number of updates per test run"
      ]
    },
    {
      "cell_type": "code",
      "execution_count": 6,
      "metadata": {
        "id": "Gkf9cyCSc8Qf"
      },
      "outputs": [],
      "source": [
        "# Corrupt the pattern with noise\n",
        "\n",
        "test_pat, flip = hop_flip(P[:, pat - 1], pr)"
      ]
    },
    {
      "cell_type": "code",
      "execution_count": 7,
      "metadata": {
        "id": "d0F5Dz38c8Qf",
        "colab": {
          "base_uri": "https://localhost:8080/",
          "height": 231
        },
        "outputId": "ba71da31-bf72-4fcc-a3fe-c4b61ab38bbf"
      },
      "outputs": [
        {
          "output_type": "display_data",
          "data": {
            "text/plain": [
              "<Figure size 640x480 with 3 Axes>"
            ],
            "image/png": "[encoded data removed]"
          },
          "metadata": {}
        }
      ],
      "source": [
        "fig, ax = pl.subplots(1, 3)\n",
        "hop_plotdig(P[:, pat - 1], 10, 12, \"Original Pattern\", ax=ax[0])\n",
        "hop_plotdig(test_pat, 10, 12, \"Input Pattern\", ax=ax[1])\n",
        "hop_plotdig(test_pat, 10, 12, \"Current Pattern\", ax=ax[2])"
      ]
    },
    {
      "cell_type": "code",
      "execution_count": 8,
      "metadata": {
        "id": "GwfHEdUTc8Qf",
        "colab": {
          "base_uri": "https://localhost:8080/",
          "height": 249
        },
        "outputId": "aba2d81b-37e0-4f2b-a598-9c430d188a8f"
      },
      "outputs": [
        {
          "output_type": "stream",
          "name": "stdout",
          "text": [
            "Number of updates for final state: 16\n"
          ]
        },
        {
          "output_type": "display_data",
          "data": {
            "text/plain": [
              "<Figure size 640x480 with 3 Axes>"
            ],
            "image/png": "[encoded data removed]"
          },
          "metadata": {}
        }
      ],
      "source": [
        "from os import set_inheritable  # Importa una funzione dal modulo os (non usata in questo codice)\n",
        "from time import sleep          # Importa la funzione sleep per aggiungere ritardi temporali\n",
        "\n",
        "# Ciclo per eseguire la rete di Hopfield per 100 iterazioni o finché non raggiunge uno stato stabile\n",
        "for i in range(100):\n",
        "    # Esegue un test sulla rete di Hopfield utilizzando il peso W e il pattern test_pat\n",
        "    # 'u' indica il numero massimo di aggiornamenti per ogni ciclo\n",
        "    test_pat, c, stable = hop_test(W, test_pat, u)\n",
        "\n",
        "    # Controlla se lo stato è instabile\n",
        "    if not stable:\n",
        "        # Cancella l'immagine corrente nel terzo asse della figura (ax[2])\n",
        "        ax[2].clear()\n",
        "\n",
        "        # Visualizza lo stato attuale della rete dopo i*(u) aggiornamenti\n",
        "        hop_plotdig(test_pat, 10, 12, f\"Current State {(i+1)*u}\", ax=ax[2])\n",
        "\n",
        "        # Mostra la figura aggiornata\n",
        "        display.display(fig)\n",
        "\n",
        "        # Pulisce l'output precedente per aggiornare in tempo reale la visualizzazione\n",
        "        display.clear_output(wait=True)\n",
        "\n",
        "        # Aggiunge un ritardo di 0.5 secondi per rendere visibile ogni aggiornamento\n",
        "        sleep(0.5)\n",
        "    else:\n",
        "        # Se la rete raggiunge uno stato stabile\n",
        "        ax[2].clear()  # Cancella l'immagine corrente nel terzo asse della figura (ax[2])\n",
        "\n",
        "        # Visualizza lo stato finale della rete con il conteggio totale degli aggiornamenti\n",
        "        hop_plotdig(test_pat, 10, 12, f\"Final  State {u*(i)+c}\", ax=ax[2])\n",
        "\n",
        "        # Stampa il numero totale di aggiornamenti effettuati fino allo stato finale\n",
        "        print(f\"Number of updates for final state: {u*(i)+c}\")\n",
        "\n",
        "        # Mostra la figura aggiornata\n",
        "        display.display(fig)\n",
        "\n",
        "        # Pulisce l'output precedente per aggiornare in tempo reale la visualizzazione\n",
        "        display.clear_output(wait=True)\n",
        "\n",
        "        # Aggiunge un ritardo di 0.5 secondi prima di interrompere il ciclo\n",
        "        sleep(0.5)\n",
        "\n",
        "        # Interrompe il ciclo perché la rete ha raggiunto uno stato stabile\n",
        "        break\n"
      ]
    }
  ],
  "metadata": {
    "kernelspec": {
      "display_name": "Python 3",
      "language": "python",
      "name": "python3"
    },
    "language_info": {
      "codemirror_mode": {
        "name": "ipython",
        "version": 3
      },
      "file_extension": ".py",
      "mimetype": "text/x-python",
      "name": "python",
      "nbconvert_exporter": "python",
      "pygments_lexer": "ipython3",
      "version": "3.11.9"
    },
    "colab": {
      "provenance": [],
      "include_colab_link": true
    }
  },
  "nbformat": 4,
  "nbformat_minor": 0
}